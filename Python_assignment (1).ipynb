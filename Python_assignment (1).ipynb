{
 "cells": [
  {
   "cell_type": "markdown",
   "id": "d0b92d57",
   "metadata": {},
   "source": [
    "# Exercise 2 - Create a markdown cell with the title of the notebook."
   ]
  },
  {
   "cell_type": "markdown",
   "id": "00c7c413",
   "metadata": {},
   "source": [
    "## PYTHON ASSIGNMENT"
   ]
  },
  {
   "cell_type": "markdown",
   "id": "f7a4bb1c",
   "metadata": {},
   "source": [
    "# Exercise 3 - Create a markdown cell for an introduction."
   ]
  },
  {
   "cell_type": "markdown",
   "id": "f299eced",
   "metadata": {},
   "source": [
    "### Python is a general - purpose language and has a large standard library. \n",
    "### For data science, it has scientific computing libraries like Pandas, NumPy, SciPy, and Matplotlib. \n",
    "### For AI, it has libraries like TensorFlow, PyTorch, Keras and Scikit-Learn. \n",
    "### Python can be used for NLP using Natural Language Toolkit(NLK)."
   ]
  },
  {
   "cell_type": "markdown",
   "id": "2063c045",
   "metadata": {},
   "source": [
    "# Exercise 4 - Create a markdown cell to list data science languages."
   ]
  },
  {
   "cell_type": "markdown",
   "id": "f630308c",
   "metadata": {},
   "source": [
    "#### Python\n",
    "#### R\n",
    "#### SQL"
   ]
  },
  {
   "cell_type": "markdown",
   "id": "4aa22f2d",
   "metadata": {},
   "source": [
    "# Exercise 5 - Create a markdown cell to list data science libraries."
   ]
  },
  {
   "cell_type": "markdown",
   "id": "abb6b590",
   "metadata": {},
   "source": [
    "#### Matplotlib\n",
    "#### NumPy\n",
    "#### Tensorflow\n",
    "#### Plotly\n",
    "#### PyTorch"
   ]
  },
  {
   "cell_type": "markdown",
   "id": "ceb99668",
   "metadata": {},
   "source": [
    "# Exercise 6 - Create a markdown cell with a table of Data Science tools."
   ]
  },
  {
   "cell_type": "markdown",
   "id": "8c2867e0",
   "metadata": {},
   "source": [
    "#### Python\n",
    "#### R\n",
    "#### Tableau\n",
    "#### Apache-Spark\n",
    "#### TensorFlow"
   ]
  },
  {
   "cell_type": "markdown",
   "id": "939a3005",
   "metadata": {},
   "source": [
    "##  Exercise 7 - Create a code cell to multiply and add numbers."
   ]
  },
  {
   "cell_type": "code",
   "execution_count": 1,
   "id": "8ca585ff",
   "metadata": {},
   "outputs": [
    {
     "data": {
      "text/plain": [
       "30"
      ]
     },
     "execution_count": 1,
     "metadata": {},
     "output_type": "execute_result"
    }
   ],
   "source": [
    " 5*6"
   ]
  },
  {
   "cell_type": "code",
   "execution_count": 2,
   "id": "09ab1605",
   "metadata": {},
   "outputs": [
    {
     "data": {
      "text/plain": [
       "11"
      ]
     },
     "execution_count": 2,
     "metadata": {},
     "output_type": "execute_result"
    }
   ],
   "source": [
    "6+5"
   ]
  },
  {
   "cell_type": "markdown",
   "id": "818fbb31",
   "metadata": {},
   "source": [
    "## Excercise 8 - create a code to convert hour to min"
   ]
  },
  {
   "cell_type": "code",
   "execution_count": 3,
   "id": "dc3b98b2",
   "metadata": {},
   "outputs": [
    {
     "name": "stdout",
     "output_type": "stream",
     "text": [
      "Enter the number of hours: 5\n",
      "5.0 hours is equal to 300.0 minutes.\n"
     ]
    }
   ],
   "source": [
    "def hours_to_minutes(hours):\n",
    "    minutes = hours * 60\n",
    "    return minutes\n",
    "\n",
    "# Taking user input for hours\n",
    "hours = float(input(\"Enter the number of hours: \"))\n",
    "\n",
    "# Converting hours to minutes using the function\n",
    "converted_minutes = hours_to_minutes(hours)\n",
    "\n",
    "# Displaying the result\n",
    "print(f\"{hours} hours is equal to {converted_minutes} minutes.\")\n"
   ]
  },
  {
   "cell_type": "markdown",
   "id": "84222b54",
   "metadata": {},
   "source": [
    "##  Exercise 9 - insert a markdown cell to list objectives"
   ]
  },
  {
   "cell_type": "markdown",
   "id": "737346d3",
   "metadata": {},
   "source": [
    "## Objectives for Jupyter Notebook Demo\n",
    "\n",
    "- Introduce basic Markdown formatting.\n",
    "- Demonstrate Python code execution.\n",
    "- Explore data visualization using libraries like Matplotlib.\n",
    "- Showcase interactive widgets with ipywidgets.\n",
    "- Discuss collaboration and version control with notebooks.\n",
    "\n",
    "These objectives aim to provide a comprehensive overview and practical demonstration of using Jupyter Notebooks for data analysis and interactive computing.\n"
   ]
  },
  {
   "cell_type": "markdown",
   "id": "14b139a3",
   "metadata": {},
   "source": [
    "## Exercise 10 -create a markdown cell to indicate the author's name"
   ]
  },
  {
   "cell_type": "markdown",
   "id": "d763afe7",
   "metadata": {},
   "source": [
    "## Author Information\n",
    "\n",
    "- Author: Suvra Mukherjee\n",
    "- Date: July 14 , 2003.\n"
   ]
  },
  {
   "cell_type": "code",
   "execution_count": null,
   "id": "9ae79910",
   "metadata": {},
   "outputs": [],
   "source": []
  }
 ],
 "metadata": {
  "kernelspec": {
   "display_name": "Python 3 (ipykernel)",
   "language": "python",
   "name": "python3"
  },
  "language_info": {
   "codemirror_mode": {
    "name": "ipython",
    "version": 3
   },
   "file_extension": ".py",
   "mimetype": "text/x-python",
   "name": "python",
   "nbconvert_exporter": "python",
   "pygments_lexer": "ipython3",
   "version": "3.10.9"
  }
 },
 "nbformat": 4,
 "nbformat_minor": 5
}
